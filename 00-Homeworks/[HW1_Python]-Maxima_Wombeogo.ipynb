{
 "cells": [
  {
   "cell_type": "markdown",
   "id": "8f868eb6",
   "metadata": {},
   "source": [
    "# Homework 1 - Python\n",
    "\n",
    "First Name:\n",
    "\n", Maxima
    "Last Name:\n",
    "\n", Wombeogo
    "Group:\n",
    "\n", SamuelNagbaEDU/tem
    "### After the assigment is done, please, push it to your [private GitHub repository](https://docs.github.com/en/github/administering-a-repository/managing-repository-settings/setting-repository-visibility) and invite [Majid-Sohrabi](https://github.com/Majid-Sohrabi)  as [collaborator](https://docs.github.com/en/account-and-profile/setting-up-and-managing-your-github-user-account/managing-access-to-your-personal-repositories/inviting-collaborators-to-a-personal-repository)."
   ]
  },
  {
   "cell_type": "markdown",
   "id": "f47683d8",
   "metadata": {},
   "source": [
    "## Task 1  (0.5 point)\n",
    "\n",
    "Write a program that takes two numbers as input and prints whether the first number is greater than, less than, or equal to the second number."
   ]
  },
  {
   "cell_type": "code",
   "execution_count": null,
   "id": "2d62ba3d",
   "metadata": {},
   "outputs": [],
   "source": [
    "<def compare_numbers(num1, num2):
    if num1 > num2:
        return "The first number is greater than the second number."
    elif num1 < num2:
        return "The first number is less than the second number."
    else:
        return "The first number is equal to the second number."

# Take input from the user
num1 = int(input("Enter the first number: "))
num2 = int(input("Enter the second number: "))

# Compare the numbers and print the result
print(compare_numbers(num1, num2))>"
   ]
  },
  {
   "cell_type": "markdown",
   "id": "d03af2f7",
   "metadata": {},
   "source": [
    "## Task 2 (0.5 point)\n",
    "\n",
    "Write a program that receives a positive integer `N` from the user, the task is to find following formula:\n",
    "\n",
    "$$\n",
    "1^2 + 2^3 + 3^2 + ... + N^2 (or N^3)\n",
    "$$\n",
    "\n",
    "1. If the number is odd then rais to the power of 2.\n",
    "2. If the numner is even then rais to the power of 3.\n",
    "\n",
    "\n",
    "Example:\n",
    "\n",
    "$$\n",
    "N = 5\n",
    "$$\n",
    "\n",
    "$$\n",
    "1^2 + 2^3 + 3^2 + 4^3 + 5^2 = (1 + 8 + 9 + 64 + 25) = 107\n",
    "$$\n"
   ]
  },
  {
   "cell_type": "code",
   "execution_count": null,
   "id": "53894434",
   "metadata": {},
   "outputs": [],
   "source": [
    "<def calculate_sum(n, power):
    sum = 0
    for i in range(1, n+1):
        sum += i ** power
    return sum

# Take input from the user
n = int(input("Enter a positive integer: "))

# Determine the power based on the number's parity
if n % 2 == 0:
    power = 3
else:
    power = 2

# Calculate the sum and print the result
print("The sum is", calculate_sum(n, power))>"
   ]
  },
  {
   "cell_type": "markdown",
   "id": "89040ea7",
   "metadata": {},
   "source": [
    "## Task 3  (0.5 points)\n",
    "\n",
    "Write a python program to rotate the elements of an array with an arbitrary direction (left or right) and arbitrary number or elements.\n",
    "\n",
    "1. The user need to insert the term ('left' or 'right') which shows the direction of the rotation.\n",
    "2. The user need to insert the number d which specifies how many elements need to be rotated.\n",
    "\n",
    "Example:\n",
    "\n",
    "```\n",
    "List (array) = [1, 2, 3, 4, 5, 6, 7]\n",
    "\n",
    "if left shift by 2 elements:\n",
    "\n",
    "Ooutput = [3, 4, 5, 6, 7, 1, 2] \n",
    "```"
   ]
  },
  {
   "cell_type": "code",
   "execution_count": null,
   "id": "782170f2",
   "metadata": {},
   "outputs": [],
   "source": [
    "<def rotate_array(arr, direction, num_elements):
    if direction.lower() == 'left':
        rotated_arr = arr[num_elements:] + arr[:num_elements]
    elif direction.lower() == 'right':
        rotated_arr = arr[-num_elements:] + arr[:-num_elements]
    else:
        raise ValueError("Invalid direction. Please enter 'left' or 'right'.")

    return rotated_arr

# Take input from the user
arr_str = input("Enter the elements of the list separated by space: ")
arr = [int(x) for x in arr_str.split()]

direction = input("Enter the direction ('left' or 'right'): ")
num_elements = int(input("Enter the number of elements to rotate: "))

# Rotate the array and print the result
rotated_arr = rotate_array(arr, direction, num_elements)
print("The rotated array is", rotated_arr)>"
   ]
  },
  {
   "cell_type": "markdown",
   "id": "9f0f0213",
   "metadata": {},
   "source": [
    "## Task 4  (0.5 points)\n",
    "\n",
    "Write a program that takes an integer as input and prints whether it is even or odd."
   ]
  },
  {
   "cell_type": "code",
   "execution_count": null,
   "id": "c79ed191",
   "metadata": {},
   "outputs": [],
   "source": [
    "<def check_even_or_odd():
    num_str = input("Enter an integer: ")
    num = int(num_str)

    if num % 2 == 0:
        print(f"{num} is even.")
    else:
        print(f"{num} is odd.")

check_even_or_odd()>"
   ]
  },
  {
   "cell_type": "markdown",
   "id": "8a0edbe2",
   "metadata": {},
   "source": [
    "## Task 5  (0.5 point)\n",
    "\n",
    "Write a program that splits a list by an index inserted by the user, then cut the list from that index and attach the right part to the beginning of the list.\n",
    "\n",
    "Example:\n",
    "\n",
    "\n",
    "list: [1, 2, 3, 4, **5, 6, 7**]\n",
    "\n",
    "new list: [**5, 6, 7**, 1, 2, 3, 4]"
   ]
  },
  {
   "cell_type": "code",
   "execution_count": null,
   "id": "5414b2cf",
   "metadata": {},
   "outputs": [],
   "source": [
    "<def split_and_rearrange_list():
    original_list_str = input("Enter the elements of the list separated by space: ")
    original_list = [int(x) for x in original_list_str.split()]

    index_str = input("Enter the index where you want to split the list: ")
    index = int(index_str)

    if index < 0 or index > len(original_list):
        raise ValueError("Invalid index. Please enter an index within the list's range.")

    right_part = original_list[index:]
    left_part = original_list[:index]

    rearranged_list = right_part + left_part

    print("The rearranged list is", rearranged_list)

split_and_rearrange_list()>"
   ]
  },
  {
   "cell_type": "markdown",
   "id": "63c550f5",
   "metadata": {},
   "source": [
    "## Task 6  (0.5 point)\n",
    "\n",
    "Write a program that takes a numeric grade as input and prints the corresponding letter grade (A, B, C, D, or F) according to the following criteria: A: 90-100, B: 80-89, C: 70-79, D: 60-69, F: 0-59."
   ]
  },
  {
   "cell_type": "code",
   "execution_count": null,
   "id": "90fcc676",
   "metadata": {},
   "outputs": [],
   "source": [
    "<def grade_converter():
    grade_str = input("Enter a numeric grade (0-100): ")
    grade = int(grade_str)

    if grade >= 90:
        letter_grade = 'A'
    elif grade >= 80:
        letter_grade = 'B'
    elif grade >= 70:
        letter_grade = 'C'
    elif grade >= 60:
        letter_grade = 'D'
    else:
        letter_grade = 'F'

    print(f"The corresponding letter grade for {grade} is {letter_grade}.")

grade_converter()>"
   ]
  },
  {
   "cell_type": "markdown",
   "id": "fb3f7250",
   "metadata": {},
   "source": [
    "## Task 7  (0.5 point)\n",
    "\n",
    "Write a program that takes a year as input and prints whether it is a leap year or not. Leap years are divisible by 4, but not by 100 unless also divisible by 400."
   ]
  },
  {
   "cell_type": "code",
   "execution_count": null,
   "id": "159f06e3",
   "metadata": {},
   "outputs": [],
   "source": [
    "<def leap_year_checker():
    year_str = input("Enter a year: ")
    year = int(year_str)

    is_leap_year = (year % 4 == 0) and (year % 100 != 0 or year % 400 == 0)

    if is_leap_year:
        print(f"{year} is a leap year.")
    else:
        print(f"{year} is not a leap year.")

leap_year_checker()>"
   ]
  },
  {
   "cell_type": "markdown",
   "id": "7e46ae74",
   "metadata": {},
   "source": [
    "## Task 8  (0.5 point)\n",
    "\n",
    "Write a program that takes a number as input and prints whether it falls within the range of 1 to 100 (inclusive)."
   ]
  },
  {
   "cell_type": "code",
   "execution_count": null,
   "id": "142d9d7a",
   "metadata": {},
   "outputs": [],
   "source": [
    "<def number_range_checker():
    num_str = input("Enter a number: ")
    num = int(num_str)

    if 1 <= num <= 100:
        print(f"{num} is within the range of 1 to 100 (inclusive).")
    else:
        print(f"{num} is not within the range of 1 to 100 (inclusive).")

number_range_checker()>"
   ]
  },
  {
   "cell_type": "markdown",
   "id": "d1d75ffd",
   "metadata": {},
   "source": [
    "## Task 9  (0.5 point)\n",
    "\n",
    "Write a program that takes a character (letter) as input and prints whether it is a vowel or a consonant."
   ]
  },
  {
   "cell_type": "code",
   "execution_count": null,
   "id": "dec0c2b5",
   "metadata": {},
   "outputs": [],
   "source": [
    "<def letter_type_checker():
    char_str = input("Enter a character (letter): ")
    char = char_str.lower()

    if char in 'aeiou':
        print(f"{char} is a vowel.")
    elif char.isalpha():
        print(f"{char} is a consonant.")
    else:
        print("Invalid input. Please enter a letter.")

letter_type_checker()>"
   ]
  },
  {
   "cell_type": "markdown",
   "id": "f026862b",
   "metadata": {},
   "source": [
    "## Task 10  (0.5 point)\n",
    "\n",
    "Write a program that takes a number representing a day of the week (1 for Monday, 2 for Tuesday, etc.) and prints the corresponding day name."
   ]
  },
  {
   "cell_type": "code",
   "execution_count": null,
   "id": "139ad2ab",
   "metadata": {},
   "outputs": [],
   "source": [
    "<def day_name_finder():
    day_str = input("Enter a number representing a day of the week (1 for Monday, 2 for Tuesday, etc.): ")
    day = int(day_str)

    days_of_week = {
        1: "Monday",
        2: "Tuesday",
        3: "Wednesday",
        4: "Thursday",
        5: "Friday",
        6: "Saturday",
        7: "Sunday"
    }

    if day in days_of_week:
        print(f"{day} corresponds to {days_of_week[day]}.")
    else:
        print("Invalid input. Please enter a number between 1 and 7 representing a day of the week.")

day_name_finder()>"
   ]
  }
 ],
 "metadata": {
  "kernelspec": {
   "display_name": "Python 3 (ipykernel)",
   "language": "python",
   "name": "python3"
  },
  "language_info": {
   "codemirror_mode": {
    "name": "ipython",
    "version": 3
   },
   "file_extension": ".py",
   "mimetype": "text/x-python",
   "name": "python",
   "nbconvert_exporter": "python",
   "pygments_lexer": "ipython3",
   "version": "3.10.9"
  }
 },
 "nbformat": 4,
 "nbformat_minor": 5
}
